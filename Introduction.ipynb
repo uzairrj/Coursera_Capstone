{
 "cells": [
  {
   "cell_type": "markdown",
   "metadata": {},
   "source": [
    "<b>Introduction/Business Problem</b>"
   ]
  },
  {
   "cell_type": "markdown",
   "metadata": {},
   "source": [
    "•\tToronto is a very developed capital city of Canada, with lots of business opportunities and business friendly environment, it has no issue in attracting many different players into the market. "
   ]
  },
  {
   "cell_type": "markdown",
   "metadata": {},
   "source": [
    "•\tHowever, that also means the market is highly competitive and as a well-developed city, the cost of doing business is also one of the highest in the country. And thus, any new business venture or expansion in the country needs to be reviewed carefully and strategically targeted so that the return on investment will be sustainably reasonable and more importantly the investment can be considerably less risker to the business."
   ]
  },
  {
   "cell_type": "markdown",
   "metadata": {},
   "source": [
    "•\tThis is clearly a problem that an online grocery retailer (i.e. ABC Online Grocery) needs to review and resolve as part of their new business venture in the country. As a startup though well-funded, they need to choose their first starting location carefully for the points highlighted above and more importantly, if this is successful, they will be able to replicate the same success fairly quickly; so first mover advantage is critical for this business and thereby the choice of location (i.e. neighborhood) is important to them too."
   ]
  },
  {
   "cell_type": "markdown",
   "metadata": {},
   "source": [
    "•\tTo solve this problem, data scientist team led by myself has been engaged by ABC Online Grocery. The objective is to locate and recommend to the management which neighborhood will be the best choice to start off their first online grocery delivery services. The management also expects to understand the rationale of the recommendations in the report."
   ]
  },
  {
   "cell_type": "code",
   "execution_count": null,
   "metadata": {},
   "outputs": [],
   "source": []
  }
 ],
 "metadata": {
  "kernelspec": {
   "display_name": "Python 3",
   "language": "python",
   "name": "python3"
  },
  "language_info": {
   "codemirror_mode": {
    "name": "ipython",
    "version": 3
   },
   "file_extension": ".py",
   "mimetype": "text/x-python",
   "name": "python",
   "nbconvert_exporter": "python",
   "pygments_lexer": "ipython3",
   "version": "3.6.5"
  }
 },
 "nbformat": 4,
 "nbformat_minor": 2
}
